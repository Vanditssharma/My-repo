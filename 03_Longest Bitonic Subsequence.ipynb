{
 "cells": [
  {
   "cell_type": "code",
   "execution_count": 11,
   "metadata": {},
   "outputs": [],
   "source": [
    "def lbs(arr):\n",
    "    n = len(arr)\n",
    "    \n",
    "    dp1 = [0 for i in range(n)]\n",
    "    dp2 = [0 for i in range(n)]\n",
    "    \n",
    "    \n",
    "    #Increasing LIS\n",
    "    \n",
    "    for i in range(n):\n",
    "        maximum = 0\n",
    "        for j in range(i):\n",
    "            if(arr[i]>arr[j]):\n",
    "                if(dp1[j]>maximum):\n",
    "                    maximum = dp1[j]\n",
    "             \n",
    "        dp1[i] = maximum+1\n",
    "        \n",
    "    \n",
    "    #Decreasing from opp side (lds)\n",
    "    \n",
    "    for i in range(n-1,-1,-1):\n",
    "        maximum = 0\n",
    "        for j in range(n-1,i,-1):\n",
    "            \n",
    "            if(arr[i]>arr[j]):\n",
    "                if(dp2[j]>maximum):\n",
    "                    maximum = dp2[j]\n",
    "                    \n",
    "        dp2[i] = maximum+1\n",
    "        \n",
    "    final = 0 \n",
    "    for i in range(n):\n",
    "        s = dp1[i]+dp2[i]\n",
    "        if s> final:\n",
    "            final = s\n",
    "            \n",
    "    print(final-1)"
   ]
  },
  {
   "cell_type": "code",
   "execution_count": 12,
   "metadata": {},
   "outputs": [
    {
     "name": "stdout",
     "output_type": "stream",
     "text": [
      "7\n"
     ]
    }
   ],
   "source": [
    "arr = [10,22,9,33,21,50,41,60,80,3]\n",
    "lbs(arr)"
   ]
  }
 ],
 "metadata": {
  "kernelspec": {
   "display_name": "Python 3",
   "language": "python",
   "name": "python3"
  },
  "language_info": {
   "codemirror_mode": {
    "name": "ipython",
    "version": 3
   },
   "file_extension": ".py",
   "mimetype": "text/x-python",
   "name": "python",
   "nbconvert_exporter": "python",
   "pygments_lexer": "ipython3",
   "version": "3.7.4"
  }
 },
 "nbformat": 4,
 "nbformat_minor": 2
}
